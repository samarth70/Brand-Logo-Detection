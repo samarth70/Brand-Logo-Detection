{
  "cells": [
    {
      "cell_type": "markdown",
      "metadata": {
        "id": "6XuGRqwEiCzH"
      },
      "source": [
        "#BRAND LOGO DETECTION"
      ]
    },
    {
      "cell_type": "markdown",
      "metadata": {
        "id": "xx5vD4rhiCmv"
      },
      "source": [
        "##IMPORTING LIBRARIES"
      ]
    },
    {
      "cell_type": "code",
      "execution_count": 1,
      "metadata": {
        "id": "6Hv2FyOmkId0"
      },
      "outputs": [],
      "source": [
        "%%capture\n",
        "!pip install tensorflow-addons"
      ]
    },
    {
      "cell_type": "code",
      "execution_count": 8,
      "metadata": {
        "id": "2JvxhXCwhqNK"
      },
      "outputs": [],
      "source": [
        "import os\n",
        "import numpy as np\n",
        "import pandas as pd\n",
        "import matplotlib.pyplot as plt\n",
        "import PIL\n",
        "import tensorflow as tf\n",
        "import tensorflow_addons as tfa\n",
        "from tensorflow_addons.metrics import F1Score\n",
        "from sklearn.metrics import accuracy_score"
      ]
    },
    {
      "cell_type": "code",
      "execution_count": 9,
      "metadata": {
        "id": "x1LzAnYxm-f-"
      },
      "outputs": [],
      "source": [
        "BATCH_SIZE = 8\n",
        "HEIGHT,WIDTH = 224,224\n",
        "CHANNELS = 3\n",
        "NUM_CLASSES =6 \n",
        "SEED = 143"
      ]
    },
    {
      "cell_type": "code",
      "source": [
        "\n",
        "# labels={'Burger King': 0, 'KFC': 1,'McDonalds': 2,'Other': 3,'Starbucks': 4,'Subway': 5}"
      ],
      "metadata": {
        "id": "yTIim48cfU7t"
      },
      "execution_count": null,
      "outputs": []
    },
    {
      "cell_type": "markdown",
      "metadata": {
        "id": "-e2T25xNr34W"
      },
      "source": [
        "##LOADING DATASET"
      ]
    },
    {
      "cell_type": "code",
      "execution_count": null,
      "metadata": {
        "id": "kzYt-LIKiZGu"
      },
      "outputs": [],
      "source": []
    },
    {
      "cell_type": "code",
      "execution_count": 2,
      "metadata": {
        "colab": {
          "base_uri": "https://localhost:8080/"
        },
        "id": "_2YG6SaFDgMJ",
        "outputId": "d3dcdc96-5631-42e7-fcce-7ec17c35453d"
      },
      "outputs": [
        {
          "output_type": "stream",
          "name": "stdout",
          "text": [
            "--2022-09-19 14:40:23--  https://huggingface.co/spaces/Sa-m/Flask-App-test-purpose/resolve/main/pot_hole_data/brand_logo_data.zip\n",
            "Resolving huggingface.co (huggingface.co)... 52.6.16.131, 52.202.207.64, 2600:1f18:147f:e850:db35:e0c7:187b:c770, ...\n",
            "Connecting to huggingface.co (huggingface.co)|52.6.16.131|:443... connected.\n",
            "HTTP request sent, awaiting response... 302 Found\n",
            "Location: https://cdn-lfs.huggingface.co/repos/f1/ec/f1ec6a79a1cb501b664cae8c6297c6f85af0f72549a56fe5a73b0a79c854af8d/546ba525f4441b7cf7fd596f411c6b0cda505fac7de47aee078ab23f4b4659d0?response-content-disposition=attachment%3B%20filename%3D%22brand_logo_data.zip%22 [following]\n",
            "--2022-09-19 14:40:24--  https://cdn-lfs.huggingface.co/repos/f1/ec/f1ec6a79a1cb501b664cae8c6297c6f85af0f72549a56fe5a73b0a79c854af8d/546ba525f4441b7cf7fd596f411c6b0cda505fac7de47aee078ab23f4b4659d0?response-content-disposition=attachment%3B%20filename%3D%22brand_logo_data.zip%22\n",
            "Resolving cdn-lfs.huggingface.co (cdn-lfs.huggingface.co)... 13.227.254.47, 13.227.254.52, 13.227.254.33, ...\n",
            "Connecting to cdn-lfs.huggingface.co (cdn-lfs.huggingface.co)|13.227.254.47|:443... connected.\n",
            "HTTP request sent, awaiting response... 200 OK\n",
            "Length: 68203294 (65M) [application/zip]\n",
            "Saving to: ‘brand_logo_data.zip’\n",
            "\n",
            "brand_logo_data.zip 100%[===================>]  65.04M  14.9MB/s    in 5.3s    \n",
            "\n",
            "2022-09-19 14:40:31 (12.2 MB/s) - ‘brand_logo_data.zip’ saved [68203294/68203294]\n",
            "\n"
          ]
        }
      ],
      "source": [
        "!wget https://huggingface.co/spaces/Sa-m/Flask-App-test-purpose/resolve/main/pot_hole_data/brand_logo_data.zip\n"
      ]
    },
    {
      "cell_type": "code",
      "execution_count": 3,
      "metadata": {
        "id": "sx__S8eHD2Ku"
      },
      "outputs": [],
      "source": [
        "%%capture\n",
        "!unzip /content/brand_logo_data.zip"
      ]
    },
    {
      "cell_type": "markdown",
      "metadata": {
        "id": "i_-dZRtxEU73"
      },
      "source": [
        "##Download the video file"
      ]
    },
    {
      "cell_type": "code",
      "execution_count": null,
      "metadata": {
        "id": "lUFuvTuz-bFy"
      },
      "outputs": [],
      "source": [
        "# # https://drive.google.com/file/d/1z1_Bgthqy2RaU8Yvdcscqul4DbQdoAFD/view?usp=sharing\n",
        "# # https://drive.google.com/file/d/1KwK5YdfaYJQT9CINhLa8g9oQtZawUCOP/view?usp=sharing\n",
        "# # https://drive.google.com/file/d/1f0UrrqcAMyZk4WjQFt7l1W0z_O0-LTqt/view?usp=sharing\n",
        "\n",
        "# download('13gX_hg3903OKBviXVur5i7VycOlW-0nW','./content/test_video/test_vid.mp4',False)"
      ]
    },
    {
      "cell_type": "markdown",
      "metadata": {
        "id": "uIul3ikNrAZg"
      },
      "source": [
        "##VIDEO TO FRAMES"
      ]
    },
    {
      "cell_type": "code",
      "execution_count": null,
      "metadata": {
        "id": "HgiARASRrFJ7"
      },
      "outputs": [],
      "source": [
        "import cv2\n",
        "\n",
        "\n",
        "def vid_to_frames(video_path):\n",
        "    \n",
        "  # Read the video from specified path\n",
        "  cam = cv2.VideoCapture(video_path)\n",
        "    #../content/content/test_vid.mp4 \n",
        "  try:\n",
        "        \n",
        "      # creating a folder named data\n",
        "      if not os.path.exists('test/test_data'):\n",
        "          os.makedirs('test/test_data')\n",
        "\n",
        "    \n",
        "  # if not created then raise error\n",
        "  except OSError:\n",
        "      print ('Error: Creating directory of data')\n",
        "    \n",
        "  \n",
        "  currentframe = 0\n",
        "  os.chdir('/content/test/test_data')  \n",
        "  while(True):\n",
        "        \n",
        "      \n",
        "      ret,frame = cam.read()\n",
        "    \n",
        "      if ret:\n",
        "          \n",
        "          name = '../test_data/frame' + str(currentframe) + '.jpg'\n",
        "          cv2.imwrite(name, frame)\n",
        "          currentframe += 1\n",
        "      else:\n",
        "          break\n",
        "  cam.release()\n",
        "  cv2.destroyAllWindows()\n",
        "  %cd /content/\n"
      ]
    },
    {
      "cell_type": "code",
      "execution_count": null,
      "metadata": {
        "id": "9qRsv5TLIy8f"
      },
      "outputs": [],
      "source": [
        "vid_to_frames('../content/content/test_video/test_vid.mp4')"
      ]
    },
    {
      "cell_type": "code",
      "execution_count": null,
      "metadata": {
        "colab": {
          "base_uri": "https://localhost:8080/"
        },
        "id": "w9n4p4QUI7b1",
        "outputId": "5e7faa35-063c-4bb6-a3b6-cb3f9687a507"
      },
      "outputs": [
        {
          "name": "stdout",
          "output_type": "stream",
          "text": [
            "/content\n"
          ]
        }
      ],
      "source": []
    },
    {
      "cell_type": "markdown",
      "metadata": {
        "id": "ctLk_ZhdJLcE"
      },
      "source": [
        "### local test set"
      ]
    },
    {
      "cell_type": "code",
      "execution_count": null,
      "metadata": {
        "colab": {
          "base_uri": "https://localhost:8080/"
        },
        "id": "yq-TWsf3CILq",
        "outputId": "b96c6d57-3551-4a41-d3f5-56b46f9ddfc3"
      },
      "outputs": [
        {
          "name": "stdout",
          "output_type": "stream",
          "text": [
            "Found 1500 images belonging to 1 classes.\n"
          ]
        }
      ],
      "source": [
        "test_datagen = tf.keras.preprocessing.image.ImageDataGenerator(\n",
        "    rescale=1./255,\n",
        "    rotation_range=50,\n",
        "    horizontal_flip=True,\n",
        "    width_shift_range=0.2,\n",
        "    height_shift_range=0.2,\n",
        "    shear_range = 0.2, \n",
        "    zoom_range = 0.2,\n",
        "   )\n",
        "my_test = test_datagen.flow_from_directory(\n",
        "                             '/content/test',\n",
        "                             target_size = (HEIGHT,WIDTH),\n",
        "                             batch_size = BATCH_SIZE,\n",
        "                             class_mode = \"categorical\",\n",
        "                             shuffle = False,\n",
        "                             seed = SEED,\n",
        "                            #  classes=CLASSES,\n",
        "                             color_mode='rgb'\n",
        "                            )"
      ]
    },
    {
      "cell_type": "code",
      "execution_count": null,
      "metadata": {
        "id": "Nx59cNahCII8"
      },
      "outputs": [],
      "source": []
    },
    {
      "cell_type": "code",
      "execution_count": null,
      "metadata": {
        "id": "-flECGmCrFE9"
      },
      "outputs": [],
      "source": []
    },
    {
      "cell_type": "markdown",
      "metadata": {
        "id": "4VerhvvDy0rs"
      },
      "source": [
        "##TRAIN DATASET PREPROCESSING"
      ]
    },
    {
      "cell_type": "code",
      "execution_count": 10,
      "metadata": {
        "colab": {
          "base_uri": "https://localhost:8080/"
        },
        "id": "rYLYrCAAl8U5",
        "outputId": "a9c3d9b7-3896-4841-f34f-8be4927af37f"
      },
      "outputs": [
        {
          "output_type": "stream",
          "name": "stdout",
          "text": [
            "['Subway', 'Burger King', 'Other', 'KFC', 'McDonalds', 'Starbucks']\n"
          ]
        }
      ],
      "source": [
        "TRAIN_PATH = \"../content/logos3/train\"\n",
        "TEST_PATH = \"../content/logos3/test\"\n",
        "\n",
        "print(os.listdir(TRAIN_PATH))\n"
      ]
    },
    {
      "cell_type": "code",
      "execution_count": 11,
      "metadata": {
        "id": "rBx6J2ajE3o1"
      },
      "outputs": [],
      "source": [
        "\n",
        "CLASSES= os.listdir(TRAIN_PATH)\n",
        "CLASSES.sort()\n",
        "# ['Burger King', 'Subway', 'McDonalds', 'Starbucks', 'Other', 'KFC']"
      ]
    },
    {
      "cell_type": "code",
      "source": [
        "CLASSES"
      ],
      "metadata": {
        "colab": {
          "base_uri": "https://localhost:8080/"
        },
        "id": "7fDVFVlOFDX_",
        "outputId": "6cf672e5-f87d-4e4a-9899-811fac36eaed"
      },
      "execution_count": 12,
      "outputs": [
        {
          "output_type": "execute_result",
          "data": {
            "text/plain": [
              "['Burger King', 'KFC', 'McDonalds', 'Other', 'Starbucks', 'Subway']"
            ]
          },
          "metadata": {},
          "execution_count": 12
        }
      ]
    },
    {
      "cell_type": "code",
      "execution_count": 13,
      "metadata": {
        "id": "sffL058YGSIA"
      },
      "outputs": [],
      "source": [
        "# from tensorflow.keras.applications.densenet import preprocess_input "
      ]
    },
    {
      "cell_type": "code",
      "execution_count": 14,
      "metadata": {
        "colab": {
          "base_uri": "https://localhost:8080/"
        },
        "id": "12SU0NISu5oY",
        "outputId": "bab47680-0a5e-4f27-dca4-441e678d02ab"
      },
      "outputs": [
        {
          "output_type": "stream",
          "name": "stdout",
          "text": [
            "Found 1358 images belonging to 6 classes.\n",
            "Found 380 images belonging to 6 classes.\n"
          ]
        }
      ],
      "source": [
        "#Data generated\n",
        "train_datagen = tf.keras.preprocessing.image.ImageDataGenerator(\n",
        "    rescale=1./255,\n",
        "    rotation_range=20,\n",
        "    horizontal_flip=True,\n",
        "    # width_shift_range=0.2,\n",
        "    # height_shift_range=0.2,\n",
        "    # shear_range = 0.2, \n",
        "    zoom_range = 0.2,\n",
        "    validation_split=0.22,  \n",
        "    # preprocessing_function= tf.keras.applications.nasnet.preprocess_input\n",
        "   )\n",
        "\n",
        "#Data stored in train & test \n",
        "train_ds = train_datagen.flow_from_directory(\n",
        "                             TRAIN_PATH,\n",
        "                             target_size = (HEIGHT,WIDTH),\n",
        "                             batch_size = BATCH_SIZE,\n",
        "                             class_mode = \"categorical\",\n",
        "                             shuffle = True,\n",
        "                             seed = SEED,\n",
        "                             classes=CLASSES,\n",
        "                             subset = \"training\",\n",
        "                             color_mode='rgb'\n",
        "                            )\n",
        "val_ds = train_datagen.flow_from_directory(\n",
        "                             TRAIN_PATH,\n",
        "                             target_size = (HEIGHT,WIDTH),\n",
        "                             batch_size = BATCH_SIZE,\n",
        "                             class_mode = \"categorical\",\n",
        "                             shuffle = False,\n",
        "                             seed = SEED,\n",
        "                             classes=CLASSES,\n",
        "                             subset = \"validation\",\n",
        "                             color_mode='rgb'\n",
        "                            )\n",
        "\n",
        "\n",
        "classes_dict = train_ds.class_indices\n",
        "# classes_dict"
      ]
    },
    {
      "cell_type": "code",
      "execution_count": 15,
      "metadata": {
        "colab": {
          "base_uri": "https://localhost:8080/"
        },
        "id": "o9CjZX_mfmu_",
        "outputId": "df783b19-85fb-4fa2-b03b-5815941d621c"
      },
      "outputs": [
        {
          "output_type": "execute_result",
          "data": {
            "text/plain": [
              "{'Burger King': 0,\n",
              " 'KFC': 1,\n",
              " 'McDonalds': 2,\n",
              " 'Other': 3,\n",
              " 'Starbucks': 4,\n",
              " 'Subway': 5}"
            ]
          },
          "metadata": {},
          "execution_count": 15
        }
      ],
      "source": [
        "train_ds.class_indices"
      ]
    },
    {
      "cell_type": "code",
      "execution_count": 16,
      "metadata": {
        "id": "Hm-RTvXOFYHn"
      },
      "outputs": [],
      "source": [
        "# labels=train_ds.class_indices"
      ]
    },
    {
      "cell_type": "markdown",
      "metadata": {
        "id": "rNAtqiqpyqYR"
      },
      "source": [
        "##TEST DATASET PREPROCESSING"
      ]
    },
    {
      "cell_type": "code",
      "execution_count": 17,
      "metadata": {
        "colab": {
          "base_uri": "https://localhost:8080/"
        },
        "id": "dl8ANYtOv-Pq",
        "outputId": "fb20e8e3-541d-4de4-fafb-5ec5eaf9a054"
      },
      "outputs": [
        {
          "output_type": "stream",
          "name": "stdout",
          "text": [
            "Found 560 images belonging to 6 classes.\n"
          ]
        }
      ],
      "source": [
        "\n",
        "test_datagen = tf.keras.preprocessing.image.ImageDataGenerator(\n",
        "    rescale=1./255,\n",
        "    rotation_range=20,\n",
        "    horizontal_flip=True,\n",
        "    # width_shift_range=0.2,\n",
        "    # height_shift_range=0.2,\n",
        "    # shear_range = 0.2, \n",
        "    zoom_range = 0.2,\n",
        "    # preprocessing_function=tf.keras.applications.nasnet.preprocess_input\n",
        "   )\n",
        "test_ds = test_datagen.flow_from_directory(\n",
        "                             TEST_PATH,\n",
        "                             target_size = (HEIGHT,WIDTH),\n",
        "                             batch_size = BATCH_SIZE,\n",
        "                             class_mode = \"categorical\",\n",
        "                             shuffle = False,\n",
        "                             seed = SEED,\n",
        "                             classes=CLASSES,\n",
        "                             color_mode='rgb'\n",
        "                            )"
      ]
    },
    {
      "cell_type": "markdown",
      "metadata": {
        "id": "rAwDmuQQ7ONl"
      },
      "source": [
        "## VGG16"
      ]
    },
    {
      "cell_type": "code",
      "execution_count": null,
      "metadata": {
        "colab": {
          "base_uri": "https://localhost:8080/"
        },
        "id": "rDThk8cG7UlG",
        "outputId": "3afe12ea-40f9-4c8f-a4f2-6bf20f163fd2"
      },
      "outputs": [
        {
          "name": "stdout",
          "output_type": "stream",
          "text": [
            "Downloading data from https://storage.googleapis.com/tensorflow/keras-applications/vgg16/vgg16_weights_tf_dim_ordering_tf_kernels_notop.h5\n",
            "58892288/58889256 [==============================] - 0s 0us/step\n",
            "58900480/58889256 [==============================] - 0s 0us/step\n"
          ]
        }
      ],
      "source": [
        "def create_model1():\n",
        "    model = tf.keras.applications.VGG16(weights= \"imagenet\",\n",
        "                                    include_top=False,\n",
        "                                    input_shape=(HEIGHT,WIDTH,CHANNELS), pooling=\"avg\")\n",
        "    predictions = tf.keras.layers.Dense(32, activation='relu', name='predictions')(model.output)\n",
        "    model = tf.keras.Model(inputs=model.input, outputs=predictions)\n",
        "    \n",
        "    \n",
        "    model = tf.keras.Model(model.input, model.layers[-2].output)\n",
        "    \n",
        "    x = tf.keras.layers.Dense(512, activation = \"relu\")(model.output)\n",
        "    x = tf.keras.layers.Dropout(0.1)(x)\n",
        "    x = tf.keras.layers.Dense(256, activation = \"relu\")(x)\n",
        "    x = tf.keras.layers.Dropout(0.1)(x)\n",
        "    x = tf.keras.layers.Dense(128, activation = \"relu\")(x)\n",
        "    # x = tf.keras.layers.Dropout(0.1)(x)\n",
        "    x = tf.keras.layers.Dense(64, activation = \"relu\")(x)\n",
        "    outputs = tf.keras.layers.Dense(NUM_CLASSES, activation = \"softmax\", dtype = tf.float32)(x)\n",
        "    model = tf.keras.Model(model.input,outputs)\n",
        "    \n",
        "    for layer in model.layers[:-10]:\n",
        "        layer.trainble = False\n",
        "    return model\n",
        "\n",
        "\n",
        "model=create_model1()  "
      ]
    },
    {
      "cell_type": "markdown",
      "metadata": {
        "id": "RUAhlP_hdDd1"
      },
      "source": [
        "## InceptionResNetV2"
      ]
    },
    {
      "cell_type": "code",
      "execution_count": null,
      "metadata": {
        "colab": {
          "base_uri": "https://localhost:8080/"
        },
        "id": "zhv3bj2pdDeN",
        "outputId": "32cd8fe2-bbc3-4077-ec81-3058ba28a33b"
      },
      "outputs": [
        {
          "name": "stdout",
          "output_type": "stream",
          "text": [
            "Downloading data from https://storage.googleapis.com/tensorflow/keras-applications/inception_resnet_v2/inception_resnet_v2_weights_tf_dim_ordering_tf_kernels_notop.h5\n",
            "219062272/219055592 [==============================] - 7s 0us/step\n"
          ]
        }
      ],
      "source": [
        "\n",
        "def create_model2():\n",
        "    model = tf.keras.applications.InceptionResNetV2(weights= \"imagenet\",\n",
        "                                    include_top=False,\n",
        "                                    input_shape=(HEIGHT,WIDTH,CHANNELS), pooling=\"avg\")\n",
        "    predictions = tf.keras.layers.Dense(32, activation='relu', name='predictions')(model.output)\n",
        "    model = tf.keras.Model(inputs=model.input, outputs=predictions)\n",
        "    \n",
        "    \n",
        "    model = tf.keras.Model(model.input, model.layers[-2].output)\n",
        "    \n",
        "    x = tf.keras.layers.Dense(512, activation = \"relu\")(model.output)\n",
        "    x = tf.keras.layers.Dropout(0.3)(x)\n",
        "    x = tf.keras.layers.Dense(256, activation = \"relu\")(x)\n",
        "    # x = tf.keras.layers.Dropout(0.1)(x)\n",
        "    x = tf.keras.layers.Dense(128, activation = \"relu\")(x)\n",
        "    # x = tf.keras.layers.Dropout(0.1)(x)\n",
        "    x = tf.keras.layers.Dense(64, activation = \"relu\")(x)\n",
        "    outputs = tf.keras.layers.Dense(6, activation = \"softmax\", dtype = tf.float32)(x)\n",
        "    model = tf.keras.Model(model.input,outputs)\n",
        "    \n",
        "    for layer in model.layers[:-2]:\n",
        "        layer.trainble = False\n",
        "    return model\n",
        "\n",
        "\n",
        "model=create_model2()  "
      ]
    },
    {
      "cell_type": "code",
      "execution_count": null,
      "metadata": {
        "id": "xcBLMjLZMsl8"
      },
      "outputs": [],
      "source": []
    },
    {
      "cell_type": "markdown",
      "metadata": {
        "id": "_jXqNoqKh_Vd"
      },
      "source": [
        "## NASNET"
      ]
    },
    {
      "cell_type": "code",
      "execution_count": null,
      "metadata": {
        "colab": {
          "base_uri": "https://localhost:8080/"
        },
        "id": "7YQaZV1XPVAT",
        "outputId": "2263ad60-639c-4a7d-d584-f1fbeeab6a10"
      },
      "outputs": [
        {
          "name": "stdout",
          "output_type": "stream",
          "text": [
            "Downloading data from https://storage.googleapis.com/tensorflow/keras-applications/nasnet/NASNet-mobile-no-top.h5\n",
            "19996672/19993432 [==============================] - 0s 0us/step\n",
            "20004864/19993432 [==============================] - 0s 0us/step\n"
          ]
        }
      ],
      "source": [
        "\n",
        "def create_model3():\n",
        "    model = tf.keras.applications.NASNetMobile(weights= \"imagenet\",\n",
        "                                    include_top=False,\n",
        "                                    input_shape=(HEIGHT,WIDTH,CHANNELS), pooling=\"avg\")\n",
        "    predictions = tf.keras.layers.Dense(32, activation='relu', name='predictions')(model.output)\n",
        "    model = tf.keras.Model(inputs=model.input, outputs=predictions)\n",
        "    \n",
        "\n",
        "    model = tf.keras.Model(model.input, model.layers[-2].output)\n",
        "    \n",
        "    x = tf.keras.layers.Dense(256, activation = \"relu\")(model.output)\n",
        "    x = tf.keras.layers.Dropout(0.3)(x)\n",
        "    x = tf.keras.layers.Dense(256, activation = \"relu\")(x)\n",
        "    x = tf.keras.layers.Dense(128, activation = \"relu\")(x)\n",
        "    x = tf.keras.layers.Dense(64, activation = \"relu\")(x)\n",
        "    outputs = tf.keras.layers.Dense(NUM_CLASSES, activation = \"softmax\", dtype = tf.float32)(x)\n",
        "    model = tf.keras.Model(model.input,outputs)\n",
        "    \n",
        "    for layer in model.layers[:-4]:\n",
        "        layer.trainble = False\n",
        "    return model\n",
        "\n",
        "model = create_model3()\n"
      ]
    },
    {
      "cell_type": "code",
      "execution_count": null,
      "metadata": {
        "id": "RdShe5g-eGMK"
      },
      "outputs": [],
      "source": []
    },
    {
      "cell_type": "markdown",
      "metadata": {
        "id": "_1aOiHGIzaqr"
      },
      "source": [
        "## BASE MODEL"
      ]
    },
    {
      "cell_type": "code",
      "execution_count": null,
      "metadata": {
        "id": "EqmnF_t1VgyE"
      },
      "outputs": [],
      "source": [
        "\n",
        "IMAGE_SIZE=(224,224)\n",
        "def conv_block(filters, inputs):\n",
        "    x = tf.keras.layers.SeparableConv2D(filters, 3, activation=\"relu\", padding=\"same\")(inputs)\n",
        "    x = tf.keras.layers.SeparableConv2D(filters, 3, activation=\"relu\", padding=\"same\")(x)\n",
        "    x = tf.keras.layers.BatchNormalization()(x)\n",
        "    outputs = tf.keras.layers.MaxPool2D()(x)\n",
        "    return outputs\n",
        "\n",
        "\n",
        "def dense_block(units, dropout_rate, inputs):\n",
        "    x = tf.keras.layers.Dense(units, activation=\"relu\")(inputs)\n",
        "    x = tf.keras.layers.BatchNormalization()(x)\n",
        "    outputs = tf.keras.layers.Dropout(dropout_rate)(x)\n",
        "\n",
        "    return outputs\n",
        "def build_model():\n",
        "    inputs = tf.keras.Input(shape=(IMAGE_SIZE[0], IMAGE_SIZE[1], 3))\n",
        "    x = tf.keras.layers.experimental.preprocessing.Rescaling(1.0 / 255)(inputs)\n",
        "    x = tf.keras.layers.Conv2D(16, 3, activation=\"relu\", padding=\"same\")(x)\n",
        "    x = tf.keras.layers.Conv2D(16, 3, activation=\"relu\", padding=\"same\")(x)\n",
        "    x = tf.keras.layers.MaxPool2D()(x)\n",
        "\n",
        "    x = conv_block(32, x)\n",
        "    x = conv_block(64, x)\n",
        "\n",
        "    x = conv_block(128, x)\n",
        "    x = tf.keras.layers.Dropout(0.2)(x)\n",
        "\n",
        "    x = conv_block(256, x)\n",
        "    x = tf.keras.layers.Dropout(0.2)(x)\n",
        "\n",
        "    x = tf.keras.layers.Flatten()(x)\n",
        "    x = dense_block(512, 0.7, x)\n",
        "    x = dense_block(128, 0.5, x)\n",
        "    x = dense_block(64, 0.3, x)\n",
        "\n",
        "    outputs = tf.keras.layers.Dense(1, activation=\"sigmoid\")(x)\n",
        "\n",
        "    model = tf.keras.Model(inputs=inputs, outputs=outputs)\n",
        "    return model\n",
        "   \n",
        "def create_model():\n",
        "    model=build_model()\n",
        "    model = tf.keras.Model(model.input, model.layers[-2].output)\n",
        "    outputs = tf.keras.layers.Dense(NUM_CLASSES,activation = \"softmax\", name = \"output\")(model.output)\n",
        "    \n",
        "    model = tf.keras.Model(model.input, outputs)\n",
        "    return model\n",
        "\n",
        "model=create_model()\n"
      ]
    },
    {
      "cell_type": "code",
      "execution_count": null,
      "metadata": {
        "id": "C_NgStf3zfFT"
      },
      "outputs": [],
      "source": []
    },
    {
      "cell_type": "markdown",
      "metadata": {
        "id": "zMKhhOJJJkD-"
      },
      "source": [
        "##MOBILENET"
      ]
    },
    {
      "cell_type": "code",
      "execution_count": null,
      "metadata": {
        "id": "sncvkhe3JjaZ"
      },
      "outputs": [],
      "source": [
        "def create_model3():\n",
        "    model = tf.keras.applications.MobileNetV3Large(weights= \"imagenet\",\n",
        "                                    include_top=False,\n",
        "                                    input_shape=(HEIGHT,WIDTH,CHANNELS), pooling=\"avg\")\n",
        "    predictions = tf.keras.layers.Dense(32, activation='sigmoid', name='predictions')(model.output)\n",
        "    model = tf.keras.Model(inputs=model.input, outputs=predictions)\n",
        "    \n",
        "    # model.load_weights(\"../content/best_model.h5\")\n",
        "    model = tf.keras.Model(model.input, model.layers[-2].output)\n",
        "    \n",
        "    x = tf.keras.layers.Dense(512, activation = \"relu\")(model.output)\n",
        "    x = tf.keras.layers.Dropout(0.3)(x)\n",
        "    x = tf.keras.layers.Dense(256, activation = \"relu\")(x)\n",
        "    # x = tf.keras.layers.Dropout(0.1)(x)\n",
        "    x = tf.keras.layers.Dense(128, activation = \"relu\")(x)\n",
        "    x = tf.keras.layers.Dense(64, activation = \"relu\")(x)\n",
        "    x = tf.keras.layers.Dense(64, activation = \"relu\")(x)\n",
        "    outputs = tf.keras.layers.Dense(NUM_CLASSES, activation = \"softmax\", dtype = tf.float32)(x)\n",
        "    model = tf.keras.Model(model.input,outputs)\n",
        "    \n",
        "    for layer in model.layers[:-14]:\n",
        "        layer.trainble = False\n",
        "    return model\n",
        "\n",
        "model=create_model3()\n"
      ]
    },
    {
      "cell_type": "markdown",
      "metadata": {
        "id": "tUDOixJHB8Vp"
      },
      "source": [
        "##TFHUB MODEL"
      ]
    },
    {
      "cell_type": "code",
      "execution_count": null,
      "metadata": {
        "id": "VdnjOtgg5W6A"
      },
      "outputs": [],
      "source": [
        "import tensorflow_hub as hub\n",
        "\n",
        "\n",
        "def create_model_hub():\n",
        "    URL ='https://tfhub.dev/deepmind/ganeval-cifar10-convnet/1'\n",
        "    # 'https://tfhub.dev/google/tf2-preview/mobilenet_v2/feature_vector/4'\n",
        "    # \"https://tfhub.dev/google/bit/m-r50x1/ilsvrc2012_classification/1\"\n",
        "    # \"https://tfhub.dev/google/tf2-preview/inception_v3/classification/4\"\n",
        "    # \n",
        "    # https://tfhub.dev/google/tf2-preview/mobilenet_v2/feature_vector/4\"\n",
        "    # 'https://tfhub.dev/deepmind/ganeval-cifar10-convnet/1' \n",
        "\n",
        "    feature_extractor = hub.KerasLayer(URL,input_shape = (HEIGHT,WIDTH,3))\n",
        "    model=tf.keras.Sequential([feature_extractor])\n",
        "    \n",
        "    predictions = tf.keras.layers.Dense(16, activation='sigmoid', name='predictions')(model.output)\n",
        "    model = tf.keras.Model(inputs=model.input, outputs=predictions)\n",
        "    \n",
        "    # model.load_weights(\"../content/best_model.h5\")\n",
        "    model = tf.keras.Model(model.input, model.layers[-2].output)\n",
        "    \n",
        "    x = tf.keras.layers.Dense(512, activation = \"relu\")(model.output)\n",
        "    x = tf.keras.layers.Dropout(0.3)(x)\n",
        "    x = tf.keras.layers.Dense(256, activation = \"relu\")(x)\n",
        "    x = tf.keras.layers.Dense(64, activation = \"relu\")(x)\n",
        "    # x = tf.keras.layers.Dropout(0.2)(x)\n",
        "    x = tf.keras.layers.Dense(64, activation = \"relu\")(x)\n",
        "    outputs = tf.keras.layers.Dense(NUM_CLASSES, activation = \"softmax\", dtype = tf.float32)(x)\n",
        "    model = tf.keras.Model(model.input,outputs)\n",
        "    \n",
        "    # for layer in model.layers[:-2]:\n",
        "    #     layer.trainble = False\n",
        "    return model\n",
        "\n",
        "model=create_model_hub()\n"
      ]
    },
    {
      "cell_type": "markdown",
      "metadata": {
        "id": "9L8xcsixXHi5"
      },
      "source": [
        "## RESNET"
      ]
    },
    {
      "cell_type": "code",
      "execution_count": null,
      "metadata": {
        "colab": {
          "base_uri": "https://localhost:8080/"
        },
        "id": "X_CXdM5nHP5r",
        "outputId": "c43339d5-edb6-4c3e-ec97-e025467a9330"
      },
      "outputs": [
        {
          "name": "stdout",
          "output_type": "stream",
          "text": [
            "Downloading data from https://storage.googleapis.com/tensorflow/keras-applications/inception_resnet_v2/inception_resnet_v2_weights_tf_dim_ordering_tf_kernels_notop.h5\n",
            "219062272/219055592 [==============================] - 1s 0us/step\n",
            "219070464/219055592 [==============================] - 1s 0us/step\n"
          ]
        }
      ],
      "source": [
        "def create_model4():\n",
        "    model = tf.keras.applications.InceptionResNetV2(weights= \"imagenet\",\n",
        "                                    include_top=False,\n",
        "                                    input_shape=(HEIGHT,WIDTH,CHANNELS), pooling=\"avg\")\n",
        "    predictions = tf.keras.layers.Dense(12, activation='sigmoid', name='predictions')(model.output)\n",
        "    model = tf.keras.Model(inputs=model.input, outputs=predictions)\n",
        "    \n",
        "    model = tf.keras.Model(model.input, model.layers[-2].output)\n",
        "    \n",
        "    x = tf.keras.layers.Dense(256, activation = \"relu\")(model.output)\n",
        "    x = tf.keras.layers.Dropout(0.3)(x)\n",
        "    x = tf.keras.layers.Dense(256, activation = \"relu\")(x)\n",
        "    x = tf.keras.layers.Dropout(0.1)(x)\n",
        "    x = tf.keras.layers.Dense(128, activation = \"relu\")(x)\n",
        "    x = tf.keras.layers.Dropout(0.1)(x)\n",
        "    x = tf.keras.layers.Dense(64, activation = \"relu\")(x)\n",
        "    outputs = tf.keras.layers.Dense(NUM_CLASSES, activation = \"softmax\", dtype = tf.float32)(x)\n",
        "    model = tf.keras.Model(model.input,outputs)\n",
        "    \n",
        "    # for layer in model.layers[:-1]:\n",
        "    #     layer.trainble = False\n",
        "    return model\n",
        "\n",
        "\n",
        "\n",
        "model=create_model4()  "
      ]
    },
    {
      "cell_type": "code",
      "execution_count": null,
      "metadata": {
        "id": "BW27ultKUOhu"
      },
      "outputs": [],
      "source": []
    },
    {
      "cell_type": "markdown",
      "metadata": {
        "id": "5i-2wY5xRy_S"
      },
      "source": [
        "## CUSTOM KERAS MODEL "
      ]
    },
    {
      "cell_type": "code",
      "execution_count": null,
      "metadata": {
        "colab": {
          "base_uri": "https://localhost:8080/"
        },
        "id": "sought-tongue",
        "outputId": "96e33df5-4f20-41f7-e146-59722d9733d7"
      },
      "outputs": [
        {
          "name": "stdout",
          "output_type": "stream",
          "text": [
            "Keras Model\n"
          ]
        }
      ],
      "source": [
        "\n",
        "IMAGE_SIZE=(224,224)\n",
        "def conv_block(filters, inputs):\n",
        "    x = tf.keras.layers.SeparableConv2D(filters, 3, activation=\"relu\", padding=\"same\")(inputs)\n",
        "    x = tf.keras.layers.SeparableConv2D(filters, 3, activation=\"relu\", padding=\"same\")(x)\n",
        "    x = tf.keras.layers.BatchNormalization()(x)\n",
        "    outputs = tf.keras.layers.MaxPool2D()(x)\n",
        "\n",
        "    return outputs\n",
        "\n",
        "\n",
        "def dense_block(units, dropout_rate, inputs):\n",
        "    x = tf.keras.layers.Dense(units, activation=\"relu\")(inputs)\n",
        "    x = tf.keras.layers.BatchNormalization()(x)\n",
        "    outputs = tf.keras.layers.Dropout(dropout_rate)(x)\n",
        "\n",
        "    return outputs\n",
        "def build_model():\n",
        "    inputs = tf.keras.Input(shape=(IMAGE_SIZE[0], IMAGE_SIZE[1], 3))\n",
        "    x = tf.keras.layers.experimental.preprocessing.Rescaling(1.0 / 255)(inputs)\n",
        "    x = tf.keras.layers.Conv2D(16, 3, activation=\"relu\", padding=\"same\")(x)\n",
        "    x = tf.keras.layers.Conv2D(16, 3, activation=\"relu\", padding=\"same\")(x)\n",
        "    x = tf.keras.layers.MaxPool2D()(x)\n",
        "\n",
        "    x = conv_block(32, x)\n",
        "    x = conv_block(64, x)\n",
        "\n",
        "    x = conv_block(128, x)\n",
        "    x = tf.keras.layers.Dropout(0.2)(x)\n",
        "\n",
        "    x = conv_block(256, x)\n",
        "    x = tf.keras.layers.Dropout(0.2)(x)\n",
        "\n",
        "    x = tf.keras.layers.Flatten()(x)\n",
        "    x = dense_block(512, 0.7, x)\n",
        "    x = dense_block(128, 0.5, x)\n",
        "    x = dense_block(64, 0.3, x)\n",
        "\n",
        "    outputs = tf.keras.layers.Dense(1, activation=\"sigmoid\")(x)\n",
        "\n",
        "    model = tf.keras.Model(inputs=inputs, outputs=outputs)\n",
        "    return model\n",
        "   \n",
        "def create_model2():\n",
        "    model=build_model()\n",
        "    # model = tf.keras.models.load_model(\"../input/pneumonia-classification-challenge/xray_model.h5\")\n",
        "    model = tf.keras.Model(model.input, model.layers[-2].output)\n",
        "    outputs = tf.keras.layers.Dense(6,activation = \"softmax\", name = \"output\")(model.output)\n",
        "    \n",
        "    model = tf.keras.Model(model.input, outputs)\n",
        "    return model\n",
        "# tf.keras.applications.DenseNet121\n",
        "print(\"Keras Model\")\n"
      ]
    },
    {
      "cell_type": "markdown",
      "metadata": {
        "id": "XvCOUUw1Rrw2"
      },
      "source": [
        "## DENSENET121"
      ]
    },
    {
      "cell_type": "code",
      "execution_count": null,
      "metadata": {
        "colab": {
          "base_uri": "https://localhost:8080/"
        },
        "id": "personal-corporation",
        "outputId": "575a9952-c8b9-4b1c-e448-81e50e0dd37b"
      },
      "outputs": [
        {
          "output_type": "stream",
          "name": "stdout",
          "text": [
            "Downloading data from https://storage.googleapis.com/tensorflow/keras-applications/densenet/densenet121_weights_tf_dim_ordering_tf_kernels_notop.h5\n",
            "29089792/29084464 [==============================] - 0s 0us/step\n",
            "29097984/29084464 [==============================] - 0s 0us/step\n"
          ]
        }
      ],
      "source": [
        "#best_score\n",
        "def create_model():\n",
        "    model = tf.keras.applications.DenseNet121(weights= \"imagenet\",\n",
        "                                    include_top=False,\n",
        "                                    input_shape=(HEIGHT,WIDTH,CHANNELS), pooling=\"avg\")\n",
        "    predictions = tf.keras.layers.Dense(32, activation='sigmoid', name='predictions')(model.output)\n",
        "    model = tf.keras.Model(inputs=model.input, outputs=predictions)\n",
        "    \n",
        "    # model.load_weights(\"../content/best_model.h5\")\n",
        "    model = tf.keras.Model(model.input, model.layers[-2].output)\n",
        "    \n",
        "    x = tf.keras.layers.Dense(512, activation = \"relu\")(model.output)\n",
        "    x = tf.keras.layers.Dropout(0.25)(x)\n",
        "    x = tf.keras.layers.Dense(256, activation = \"relu\")(x)\n",
        "    x = tf.keras.layers.Dropout(0.1)(x)\n",
        "    x = tf.keras.layers.Dense(128, activation = \"relu\")(x)\n",
        "    x = tf.keras.layers.Dense(64, activation = \"relu\")(x)\n",
        "    x = tf.keras.layers.Dense(64, activation = \"relu\")(x)\n",
        "    outputs = tf.keras.layers.Dense(NUM_CLASSES, activation = \"softmax\", dtype = tf.float32)(x)\n",
        "    model = tf.keras.Model(model.input,outputs)\n",
        "    \n",
        "    for layer in model.layers[:-14]:\n",
        "        layer.trainble = False\n",
        "    return model\n",
        "\n",
        "model = create_model()\n"
      ]
    },
    {
      "cell_type": "markdown",
      "metadata": {
        "id": "lfPQIl9847P5"
      },
      "source": [
        "##LOADING SAVED MODEL"
      ]
    },
    {
      "cell_type": "code",
      "execution_count": 5,
      "metadata": {
        "id": "MbnE80xdoskP",
        "colab": {
          "base_uri": "https://localhost:8080/"
        },
        "outputId": "a6ffbd38-f204-4fb7-e32e-73de5d6c50fa"
      },
      "outputs": [
        {
          "output_type": "stream",
          "name": "stdout",
          "text": [
            "--2022-09-19 14:40:48--  https://huggingface.co/spaces/Sa-m/Brand-Logo-Classification/resolve/main/best_model.h5\n",
            "Resolving huggingface.co (huggingface.co)... 52.6.16.131, 52.202.207.64, 2600:1f18:147f:e850:db35:e0c7:187b:c770, ...\n",
            "Connecting to huggingface.co (huggingface.co)|52.6.16.131|:443... connected.\n",
            "HTTP request sent, awaiting response... 302 Found\n",
            "Location: https://cdn-lfs.huggingface.co/repos/e5/9b/e59b7654cfdd413408f16738902b775e7655284994a5d5a63b80d7e6c692f6a9/7f963464697e2826ccaef798e4d98157700980f563bd5b3dbee2d27219be3499?response-content-disposition=attachment%3B%20filename%3D%22best_model.h5%22 [following]\n",
            "--2022-09-19 14:40:49--  https://cdn-lfs.huggingface.co/repos/e5/9b/e59b7654cfdd413408f16738902b775e7655284994a5d5a63b80d7e6c692f6a9/7f963464697e2826ccaef798e4d98157700980f563bd5b3dbee2d27219be3499?response-content-disposition=attachment%3B%20filename%3D%22best_model.h5%22\n",
            "Resolving cdn-lfs.huggingface.co (cdn-lfs.huggingface.co)... 13.227.254.47, 13.227.254.52, 13.227.254.33, ...\n",
            "Connecting to cdn-lfs.huggingface.co (cdn-lfs.huggingface.co)|13.227.254.47|:443... connected.\n",
            "HTTP request sent, awaiting response... 200 OK\n",
            "Length: 94369624 (90M) [application/x-hdf]\n",
            "Saving to: ‘best_model.h5’\n",
            "\n",
            "best_model.h5       100%[===================>]  90.00M  17.4MB/s    in 6.6s    \n",
            "\n",
            "2022-09-19 14:40:57 (13.7 MB/s) - ‘best_model.h5’ saved [94369624/94369624]\n",
            "\n"
          ]
        }
      ],
      "source": [
        "!wget https://huggingface.co/spaces/Sa-m/Brand-Logo-Classification/resolve/main/best_model.h5"
      ]
    },
    {
      "cell_type": "code",
      "execution_count": 18,
      "metadata": {
        "id": "WwN-bnUURXmL"
      },
      "outputs": [],
      "source": [
        "from tensorflow.keras.models import load_model\n",
        "model=load_model('/content/best_model.h5')"
      ]
    },
    {
      "cell_type": "code",
      "execution_count": 36,
      "metadata": {
        "id": "PScbNN4yDRms"
      },
      "outputs": [],
      "source": []
    },
    {
      "cell_type": "code",
      "execution_count": null,
      "metadata": {
        "id": "ecbf75j6pbOD"
      },
      "outputs": [],
      "source": []
    },
    {
      "cell_type": "markdown",
      "metadata": {
        "id": "XxJDMtPQpdhm"
      },
      "source": [
        "##COMPILING MODEL"
      ]
    },
    {
      "cell_type": "code",
      "execution_count": null,
      "metadata": {
        "id": "fifteen-pillow"
      },
      "outputs": [],
      "source": [
        "def compile_model(model, lr):\n",
        "    \n",
        "    optimizer =tf.keras.optimizers.Adam(learning_rate=lr)\n",
        "        \n",
        "    loss = \"categorical_crossentropy\"\n",
        "    \n",
        "    metrics = [\n",
        "       tfa.metrics.F1Score(num_classes = NUM_CLASSES,average = \"macro\", name = \"f1_score\"),\n",
        "       tf.keras.metrics.CategoricalAccuracy(name='acc')\n",
        "    ]\n",
        "\n",
        "    model.compile(optimizer=optimizer, loss=loss, metrics=metrics)\n",
        "\n",
        "    return model"
      ]
    },
    {
      "cell_type": "code",
      "execution_count": null,
      "metadata": {
        "id": "arbitrary-lotus"
      },
      "outputs": [],
      "source": [
        "import datetime, os\n",
        "%reload_ext tensorboard\n",
        "\n",
        "METRIC = \"val_f1_score\"\n",
        "\n",
        "def create_callbacks(metric = METRIC): \n",
        "    \n",
        "    cpk_path = './best_model.h5'\n",
        "    \n",
        "    #Saving model checkpoints\n",
        "    checkpoint = tf.keras.callbacks.ModelCheckpoint(\n",
        "        filepath=cpk_path,\n",
        "        monitor= metric,\n",
        "        mode='max',\n",
        "        save_best_only=True,\n",
        "        verbose=1,\n",
        "    )\n",
        "\n",
        "    \n",
        "    logdir = os.path.join(\"logs\", datetime.datetime.now().strftime(\"%Y%m%d-%H%M%S\"))\n",
        "    tensorboard_callback = tf.keras.callbacks.TensorBoard(logdir, histogram_freq=1)\n",
        "\n",
        "    # Reducing learning rate\n",
        "    reducelr = tf.keras.callbacks.ReduceLROnPlateau(\n",
        "        monitor= metric,\n",
        "        mode='max',\n",
        "        factor=0.1,\n",
        "        patience=1,\n",
        "        verbose=1\n",
        "    )\n",
        "\n",
        "    earlystop = tf.keras.callbacks.EarlyStopping(\n",
        "        monitor= metric,\n",
        "        mode='max',\n",
        "        patience=10, \n",
        "        verbose=1\n",
        "    )\n",
        "    \n",
        "    callbacks = [checkpoint, reducelr, earlystop,tensorboard_callback]         \n",
        "    \n",
        "    return callbacks"
      ]
    },
    {
      "cell_type": "markdown",
      "metadata": {
        "id": "8aD8B2C4aPzk"
      },
      "source": [
        "## MODEL EVALUATION"
      ]
    },
    {
      "cell_type": "code",
      "execution_count": null,
      "metadata": {
        "colab": {
          "base_uri": "https://localhost:8080/"
        },
        "id": "municipal-synthesis",
        "outputId": "8bb3dc52-7a4d-455c-8d30-c09fe30f9495"
      },
      "outputs": [
        {
          "output_type": "stream",
          "name": "stdout",
          "text": [
            "Epoch 1/100\n",
            "170/170 [==============================] - ETA: 0s - loss: 0.9066 - f1_score: 0.4283 - acc: 0.6730\n",
            "Epoch 1: val_f1_score improved from -inf to 0.73859, saving model to ./best_model.h5\n",
            "170/170 [==============================] - 59s 207ms/step - loss: 0.9066 - f1_score: 0.4283 - acc: 0.6730 - val_loss: 0.3829 - val_f1_score: 0.7386 - val_acc: 0.9132 - lr: 1.0000e-04\n",
            "Epoch 2/100\n",
            "170/170 [==============================] - ETA: 0s - loss: 0.2721 - f1_score: 0.8608 - acc: 0.9271\n",
            "Epoch 2: val_f1_score improved from 0.73859 to 0.87614, saving model to ./best_model.h5\n",
            "170/170 [==============================] - 30s 175ms/step - loss: 0.2721 - f1_score: 0.8608 - acc: 0.9271 - val_loss: 0.1598 - val_f1_score: 0.8761 - val_acc: 0.9474 - lr: 1.0000e-04\n",
            "Epoch 3/100\n",
            "170/170 [==============================] - ETA: 0s - loss: 0.0988 - f1_score: 0.9592 - acc: 0.9764\n",
            "Epoch 3: val_f1_score did not improve from 0.87614\n",
            "\n",
            "Epoch 3: ReduceLROnPlateau reducing learning rate to 9.999999747378752e-06.\n",
            "170/170 [==============================] - 28s 167ms/step - loss: 0.0988 - f1_score: 0.9592 - acc: 0.9764 - val_loss: 0.2372 - val_f1_score: 0.8460 - val_acc: 0.9158 - lr: 1.0000e-04\n",
            "Epoch 4/100\n",
            "170/170 [==============================] - ETA: 0s - loss: 0.0579 - f1_score: 0.9797 - acc: 0.9838\n",
            "Epoch 4: val_f1_score improved from 0.87614 to 0.89495, saving model to ./best_model.h5\n",
            "170/170 [==============================] - 30s 175ms/step - loss: 0.0579 - f1_score: 0.9797 - acc: 0.9838 - val_loss: 0.1164 - val_f1_score: 0.8949 - val_acc: 0.9553 - lr: 1.0000e-05\n",
            "Epoch 5/100\n",
            "170/170 [==============================] - ETA: 0s - loss: 0.0643 - f1_score: 0.9782 - acc: 0.9853\n",
            "Epoch 5: val_f1_score improved from 0.89495 to 0.91496, saving model to ./best_model.h5\n",
            "170/170 [==============================] - 30s 175ms/step - loss: 0.0643 - f1_score: 0.9782 - acc: 0.9853 - val_loss: 0.0976 - val_f1_score: 0.9150 - val_acc: 0.9684 - lr: 1.0000e-05\n",
            "Epoch 6/100\n",
            "170/170 [==============================] - ETA: 0s - loss: 0.0517 - f1_score: 0.9758 - acc: 0.9875\n",
            "Epoch 6: val_f1_score did not improve from 0.91496\n",
            "\n",
            "Epoch 6: ReduceLROnPlateau reducing learning rate to 9.999999747378752e-07.\n",
            "170/170 [==============================] - 29s 168ms/step - loss: 0.0517 - f1_score: 0.9758 - acc: 0.9875 - val_loss: 0.1121 - val_f1_score: 0.9149 - val_acc: 0.9658 - lr: 1.0000e-05\n",
            "Epoch 7/100\n",
            "170/170 [==============================] - ETA: 0s - loss: 0.0356 - f1_score: 0.9819 - acc: 0.9904\n",
            "Epoch 7: val_f1_score improved from 0.91496 to 0.92453, saving model to ./best_model.h5\n",
            "170/170 [==============================] - 30s 174ms/step - loss: 0.0356 - f1_score: 0.9819 - acc: 0.9904 - val_loss: 0.1215 - val_f1_score: 0.9245 - val_acc: 0.9658 - lr: 1.0000e-06\n",
            "Epoch 8/100\n",
            "170/170 [==============================] - ETA: 0s - loss: 0.0405 - f1_score: 0.9850 - acc: 0.9897\n",
            "Epoch 8: val_f1_score improved from 0.92453 to 0.93740, saving model to ./best_model.h5\n",
            "170/170 [==============================] - 30s 174ms/step - loss: 0.0405 - f1_score: 0.9850 - acc: 0.9897 - val_loss: 0.0778 - val_f1_score: 0.9374 - val_acc: 0.9763 - lr: 1.0000e-06\n",
            "Epoch 9/100\n",
            "170/170 [==============================] - ETA: 0s - loss: 0.0363 - f1_score: 0.9878 - acc: 0.9919\n",
            "Epoch 9: val_f1_score did not improve from 0.93740\n",
            "\n",
            "Epoch 9: ReduceLROnPlateau reducing learning rate to 9.999999974752428e-08.\n",
            "170/170 [==============================] - 28s 167ms/step - loss: 0.0363 - f1_score: 0.9878 - acc: 0.9919 - val_loss: 0.1040 - val_f1_score: 0.9083 - val_acc: 0.9658 - lr: 1.0000e-06\n",
            "Epoch 10/100\n",
            "170/170 [==============================] - ETA: 0s - loss: 0.0513 - f1_score: 0.9805 - acc: 0.9904\n",
            "Epoch 10: val_f1_score did not improve from 0.93740\n",
            "\n",
            "Epoch 10: ReduceLROnPlateau reducing learning rate to 1.0000000116860975e-08.\n",
            "170/170 [==============================] - 28s 166ms/step - loss: 0.0513 - f1_score: 0.9805 - acc: 0.9904 - val_loss: 0.0946 - val_f1_score: 0.9157 - val_acc: 0.9711 - lr: 1.0000e-07\n",
            "Epoch 11/100\n",
            "170/170 [==============================] - ETA: 0s - loss: 0.0248 - f1_score: 0.9927 - acc: 0.9948\n",
            "Epoch 11: val_f1_score did not improve from 0.93740\n",
            "\n",
            "Epoch 11: ReduceLROnPlateau reducing learning rate to 9.999999939225292e-10.\n",
            "170/170 [==============================] - 28s 167ms/step - loss: 0.0248 - f1_score: 0.9927 - acc: 0.9948 - val_loss: 0.1299 - val_f1_score: 0.8941 - val_acc: 0.9579 - lr: 1.0000e-08\n",
            "Epoch 12/100\n",
            "170/170 [==============================] - ETA: 0s - loss: 0.0748 - f1_score: 0.9838 - acc: 0.9890\n",
            "Epoch 12: val_f1_score did not improve from 0.93740\n",
            "\n",
            "Epoch 12: ReduceLROnPlateau reducing learning rate to 9.999999717180686e-11.\n",
            "170/170 [==============================] - 28s 167ms/step - loss: 0.0748 - f1_score: 0.9838 - acc: 0.9890 - val_loss: 0.1181 - val_f1_score: 0.9065 - val_acc: 0.9658 - lr: 1.0000e-09\n",
            "Epoch 13/100\n",
            "170/170 [==============================] - ETA: 0s - loss: 0.0566 - f1_score: 0.9879 - acc: 0.9882\n",
            "Epoch 13: val_f1_score did not improve from 0.93740\n",
            "\n",
            "Epoch 13: ReduceLROnPlateau reducing learning rate to 9.99999943962493e-12.\n",
            "170/170 [==============================] - 29s 168ms/step - loss: 0.0566 - f1_score: 0.9879 - acc: 0.9882 - val_loss: 0.1322 - val_f1_score: 0.9017 - val_acc: 0.9605 - lr: 1.0000e-10\n",
            "Epoch 14/100\n",
            "170/170 [==============================] - ETA: 0s - loss: 0.0512 - f1_score: 0.9837 - acc: 0.9867\n",
            "Epoch 14: val_f1_score did not improve from 0.93740\n",
            "\n",
            "Epoch 14: ReduceLROnPlateau reducing learning rate to 9.999999092680235e-13.\n",
            "170/170 [==============================] - 29s 169ms/step - loss: 0.0512 - f1_score: 0.9837 - acc: 0.9867 - val_loss: 0.1070 - val_f1_score: 0.9108 - val_acc: 0.9658 - lr: 1.0000e-11\n",
            "Epoch 15/100\n",
            "170/170 [==============================] - ETA: 0s - loss: 0.0506 - f1_score: 0.9854 - acc: 0.9867\n",
            "Epoch 15: val_f1_score did not improve from 0.93740\n",
            "\n",
            "Epoch 15: ReduceLROnPlateau reducing learning rate to 9.9999988758398e-14.\n",
            "170/170 [==============================] - 29s 168ms/step - loss: 0.0506 - f1_score: 0.9854 - acc: 0.9867 - val_loss: 0.1075 - val_f1_score: 0.9157 - val_acc: 0.9658 - lr: 1.0000e-12\n",
            "Epoch 16/100\n",
            "170/170 [==============================] - ETA: 0s - loss: 0.0329 - f1_score: 0.9859 - acc: 0.9904\n",
            "Epoch 16: val_f1_score did not improve from 0.93740\n",
            "\n",
            "Epoch 16: ReduceLROnPlateau reducing learning rate to 9.999999146890344e-15.\n",
            "170/170 [==============================] - 29s 168ms/step - loss: 0.0329 - f1_score: 0.9859 - acc: 0.9904 - val_loss: 0.0927 - val_f1_score: 0.9314 - val_acc: 0.9737 - lr: 1.0000e-13\n",
            "Epoch 17/100\n",
            "170/170 [==============================] - ETA: 0s - loss: 0.0418 - f1_score: 0.9866 - acc: 0.9912\n",
            "Epoch 17: val_f1_score did not improve from 0.93740\n",
            "\n",
            "Epoch 17: ReduceLROnPlateau reducing learning rate to 9.999998977483753e-16.\n",
            "170/170 [==============================] - 29s 168ms/step - loss: 0.0418 - f1_score: 0.9866 - acc: 0.9912 - val_loss: 0.1002 - val_f1_score: 0.9116 - val_acc: 0.9658 - lr: 1.0000e-14\n",
            "Epoch 18/100\n",
            "170/170 [==============================] - ETA: 0s - loss: 0.0257 - f1_score: 0.9934 - acc: 0.9941\n",
            "Epoch 18: val_f1_score did not improve from 0.93740\n",
            "\n",
            "Epoch 18: ReduceLROnPlateau reducing learning rate to 9.999998977483754e-17.\n",
            "170/170 [==============================] - 29s 168ms/step - loss: 0.0257 - f1_score: 0.9934 - acc: 0.9941 - val_loss: 0.1168 - val_f1_score: 0.8977 - val_acc: 0.9605 - lr: 1.0000e-15\n",
            "Epoch 18: early stopping\n"
          ]
        }
      ],
      "source": [
        "EPOCHS= 100\n",
        "VERBOSE =1\n",
        "\n",
        "tf.keras.backend.clear_session()\n",
        "\n",
        "with tf.device('/device:GPU:0'):\n",
        "  \n",
        "  \n",
        "  model = compile_model(model, lr=0.0001)\n",
        "\n",
        "  callbacks = create_callbacks()\n",
        "\n",
        "  history = model.fit(train_ds, \n",
        "                      epochs=EPOCHS,\n",
        "                      callbacks=callbacks,\n",
        "                      validation_data = val_ds,\n",
        "                        verbose=VERBOSE)"
      ]
    },
    {
      "cell_type": "markdown",
      "metadata": {
        "id": "4zZzkvULsXGx"
      },
      "source": [
        "##PREDICTING TEST DATA"
      ]
    },
    {
      "cell_type": "code",
      "execution_count": 19,
      "metadata": {
        "id": "it02zVZOqHKC"
      },
      "outputs": [],
      "source": [
        "\n",
        "pred = model.predict(test_ds)\n",
        "labels = (train_ds.class_indices)\n",
        "predicted_class_indices=np.argmax(pred,axis=1)\n",
        "labels = dict((v,k) for k,v in labels.items())\n",
        "\n",
        "predictedLables= [labels[k] for k in predicted_class_indices]\n",
        "\n",
        "actualLables= [labels[k] for k in test_ds.classes]\n"
      ]
    },
    {
      "cell_type": "code",
      "execution_count": null,
      "metadata": {
        "colab": {
          "base_uri": "https://localhost:8080/"
        },
        "id": "1YJJeQZJti3o",
        "outputId": "e6c6b95a-3ecd-4cd9-9b83-bff5b6377b27"
      },
      "outputs": [
        {
          "data": {
            "text/plain": [
              "0.7660714285714286"
            ]
          },
          "execution_count": 45,
          "metadata": {},
          "output_type": "execute_result"
        }
      ],
      "source": [
        "accuracy_score(actualLables,predictedLables)"
      ]
    },
    {
      "cell_type": "code",
      "execution_count": 21,
      "metadata": {
        "id": "y7sC_qbj3hhv"
      },
      "outputs": [],
      "source": [
        "filenames=test_ds.filenames\n",
        "\n",
        "directory= test_ds.directory\n",
        "results=pd.DataFrame({\"Actual\": actualLables,\n",
        "                      \"Predictions\":predictedLables,\n",
        "                      \"Directory\":directory\n",
        "                      })\n",
        "# results=pd.DataFrame(predictedLables)\n",
        "results.to_csv(\"results.txt\",index=False,header=False)"
      ]
    },
    {
      "cell_type": "code",
      "execution_count": 22,
      "metadata": {
        "colab": {
          "base_uri": "https://localhost:8080/",
          "height": 236
        },
        "id": "yiTVVqFPFcae",
        "outputId": "262b89e3-a1db-4102-9b36-883a0ebc8c1f"
      },
      "outputs": [
        {
          "output_type": "execute_result",
          "data": {
            "text/plain": [
              "        Actual  Predictions               Directory\n",
              "0  Burger King    McDonalds  ../content/logos3/test\n",
              "1  Burger King    McDonalds  ../content/logos3/test\n",
              "2  Burger King    McDonalds  ../content/logos3/test\n",
              "3  Burger King    McDonalds  ../content/logos3/test\n",
              "4  Burger King  Burger King  ../content/logos3/test"
            ],
            "text/html": [
              "\n",
              "  <div id=\"df-6eab0938-7d47-4812-9787-6aa67ee67125\">\n",
              "    <div class=\"colab-df-container\">\n",
              "      <div>\n",
              "<style scoped>\n",
              "    .dataframe tbody tr th:only-of-type {\n",
              "        vertical-align: middle;\n",
              "    }\n",
              "\n",
              "    .dataframe tbody tr th {\n",
              "        vertical-align: top;\n",
              "    }\n",
              "\n",
              "    .dataframe thead th {\n",
              "        text-align: right;\n",
              "    }\n",
              "</style>\n",
              "<table border=\"1\" class=\"dataframe\">\n",
              "  <thead>\n",
              "    <tr style=\"text-align: right;\">\n",
              "      <th></th>\n",
              "      <th>Actual</th>\n",
              "      <th>Predictions</th>\n",
              "      <th>Directory</th>\n",
              "    </tr>\n",
              "  </thead>\n",
              "  <tbody>\n",
              "    <tr>\n",
              "      <th>0</th>\n",
              "      <td>Burger King</td>\n",
              "      <td>McDonalds</td>\n",
              "      <td>../content/logos3/test</td>\n",
              "    </tr>\n",
              "    <tr>\n",
              "      <th>1</th>\n",
              "      <td>Burger King</td>\n",
              "      <td>McDonalds</td>\n",
              "      <td>../content/logos3/test</td>\n",
              "    </tr>\n",
              "    <tr>\n",
              "      <th>2</th>\n",
              "      <td>Burger King</td>\n",
              "      <td>McDonalds</td>\n",
              "      <td>../content/logos3/test</td>\n",
              "    </tr>\n",
              "    <tr>\n",
              "      <th>3</th>\n",
              "      <td>Burger King</td>\n",
              "      <td>McDonalds</td>\n",
              "      <td>../content/logos3/test</td>\n",
              "    </tr>\n",
              "    <tr>\n",
              "      <th>4</th>\n",
              "      <td>Burger King</td>\n",
              "      <td>Burger King</td>\n",
              "      <td>../content/logos3/test</td>\n",
              "    </tr>\n",
              "  </tbody>\n",
              "</table>\n",
              "</div>\n",
              "      <button class=\"colab-df-convert\" onclick=\"convertToInteractive('df-6eab0938-7d47-4812-9787-6aa67ee67125')\"\n",
              "              title=\"Convert this dataframe to an interactive table.\"\n",
              "              style=\"display:none;\">\n",
              "        \n",
              "  <svg xmlns=\"http://www.w3.org/2000/svg\" height=\"24px\"viewBox=\"0 0 24 24\"\n",
              "       width=\"24px\">\n",
              "    <path d=\"M0 0h24v24H0V0z\" fill=\"none\"/>\n",
              "    <path d=\"M18.56 5.44l.94 2.06.94-2.06 2.06-.94-2.06-.94-.94-2.06-.94 2.06-2.06.94zm-11 1L8.5 8.5l.94-2.06 2.06-.94-2.06-.94L8.5 2.5l-.94 2.06-2.06.94zm10 10l.94 2.06.94-2.06 2.06-.94-2.06-.94-.94-2.06-.94 2.06-2.06.94z\"/><path d=\"M17.41 7.96l-1.37-1.37c-.4-.4-.92-.59-1.43-.59-.52 0-1.04.2-1.43.59L10.3 9.45l-7.72 7.72c-.78.78-.78 2.05 0 2.83L4 21.41c.39.39.9.59 1.41.59.51 0 1.02-.2 1.41-.59l7.78-7.78 2.81-2.81c.8-.78.8-2.07 0-2.86zM5.41 20L4 18.59l7.72-7.72 1.47 1.35L5.41 20z\"/>\n",
              "  </svg>\n",
              "      </button>\n",
              "      \n",
              "  <style>\n",
              "    .colab-df-container {\n",
              "      display:flex;\n",
              "      flex-wrap:wrap;\n",
              "      gap: 12px;\n",
              "    }\n",
              "\n",
              "    .colab-df-convert {\n",
              "      background-color: #E8F0FE;\n",
              "      border: none;\n",
              "      border-radius: 50%;\n",
              "      cursor: pointer;\n",
              "      display: none;\n",
              "      fill: #1967D2;\n",
              "      height: 32px;\n",
              "      padding: 0 0 0 0;\n",
              "      width: 32px;\n",
              "    }\n",
              "\n",
              "    .colab-df-convert:hover {\n",
              "      background-color: #E2EBFA;\n",
              "      box-shadow: 0px 1px 2px rgba(60, 64, 67, 0.3), 0px 1px 3px 1px rgba(60, 64, 67, 0.15);\n",
              "      fill: #174EA6;\n",
              "    }\n",
              "\n",
              "    [theme=dark] .colab-df-convert {\n",
              "      background-color: #3B4455;\n",
              "      fill: #D2E3FC;\n",
              "    }\n",
              "\n",
              "    [theme=dark] .colab-df-convert:hover {\n",
              "      background-color: #434B5C;\n",
              "      box-shadow: 0px 1px 3px 1px rgba(0, 0, 0, 0.15);\n",
              "      filter: drop-shadow(0px 1px 2px rgba(0, 0, 0, 0.3));\n",
              "      fill: #FFFFFF;\n",
              "    }\n",
              "  </style>\n",
              "\n",
              "      <script>\n",
              "        const buttonEl =\n",
              "          document.querySelector('#df-6eab0938-7d47-4812-9787-6aa67ee67125 button.colab-df-convert');\n",
              "        buttonEl.style.display =\n",
              "          google.colab.kernel.accessAllowed ? 'block' : 'none';\n",
              "\n",
              "        async function convertToInteractive(key) {\n",
              "          const element = document.querySelector('#df-6eab0938-7d47-4812-9787-6aa67ee67125');\n",
              "          const dataTable =\n",
              "            await google.colab.kernel.invokeFunction('convertToInteractive',\n",
              "                                                     [key], {});\n",
              "          if (!dataTable) return;\n",
              "\n",
              "          const docLinkHtml = 'Like what you see? Visit the ' +\n",
              "            '<a target=\"_blank\" href=https://colab.research.google.com/notebooks/data_table.ipynb>data table notebook</a>'\n",
              "            + ' to learn more about interactive tables.';\n",
              "          element.innerHTML = '';\n",
              "          dataTable['output_type'] = 'display_data';\n",
              "          await google.colab.output.renderOutput(dataTable, element);\n",
              "          const docLink = document.createElement('div');\n",
              "          docLink.innerHTML = docLinkHtml;\n",
              "          element.appendChild(docLink);\n",
              "        }\n",
              "      </script>\n",
              "    </div>\n",
              "  </div>\n",
              "  "
            ]
          },
          "metadata": {},
          "execution_count": 22
        }
      ],
      "source": [
        "results.head()"
      ]
    },
    {
      "cell_type": "code",
      "execution_count": null,
      "metadata": {
        "id": "bGKr05RmN4eB"
      },
      "outputs": [],
      "source": []
    },
    {
      "cell_type": "markdown",
      "metadata": {
        "id": "PJTO59MDCl45"
      },
      "source": [
        "## Test data from Video"
      ]
    },
    {
      "cell_type": "code",
      "execution_count": null,
      "metadata": {
        "id": "fGd2XvTnChLs"
      },
      "outputs": [],
      "source": [
        "\n",
        "pred = model.predict(my_test)\n",
        "labels = (train_ds.class_indices)\n",
        "predicted_class_indices=np.argmax(pred,axis=1)\n",
        "labels = dict((v,k) for k,v in labels.items())\n",
        "\n",
        "predictedLables= [labels[k] for k in predicted_class_indices]"
      ]
    },
    {
      "cell_type": "code",
      "execution_count": null,
      "metadata": {
        "id": "PI_T37g8CyXz"
      },
      "outputs": [],
      "source": [
        "\n",
        "results=pd.DataFrame(predictedLables)\n",
        "results.to_csv(\"results.txt\",index=False,header=False)"
      ]
    },
    {
      "cell_type": "markdown",
      "metadata": {
        "id": "OUCdkrkVLqi6"
      },
      "source": [
        "## Download Model"
      ]
    },
    {
      "cell_type": "code",
      "execution_count": null,
      "metadata": {
        "id": "qxkx2tQmLtKG"
      },
      "outputs": [],
      "source": [
        "from google.colab import files\n",
        "files.download('/content/best_model.h5')"
      ]
    },
    {
      "cell_type": "code",
      "execution_count": null,
      "metadata": {
        "id": "g1Mg1UrpLtHI"
      },
      "outputs": [],
      "source": []
    },
    {
      "cell_type": "code",
      "execution_count": null,
      "metadata": {
        "id": "AunOrONgLspg"
      },
      "outputs": [],
      "source": []
    },
    {
      "cell_type": "code",
      "execution_count": null,
      "metadata": {
        "id": "iufrBldYgmJ9"
      },
      "outputs": [],
      "source": []
    }
  ],
  "metadata": {
    "accelerator": "GPU",
    "colab": {
      "collapsed_sections": [
        "i_-dZRtxEU73",
        "uIul3ikNrAZg",
        "ctLk_ZhdJLcE",
        "rAwDmuQQ7ONl",
        "RUAhlP_hdDd1",
        "_jXqNoqKh_Vd",
        "_1aOiHGIzaqr",
        "zMKhhOJJJkD-",
        "tUDOixJHB8Vp",
        "9L8xcsixXHi5",
        "5i-2wY5xRy_S",
        "XvCOUUw1Rrw2",
        "PJTO59MDCl45"
      ],
      "toc_visible": true,
      "provenance": []
    },
    "gpuClass": "standard",
    "kernelspec": {
      "display_name": "Python 3",
      "name": "python3"
    },
    "language_info": {
      "name": "python"
    }
  },
  "nbformat": 4,
  "nbformat_minor": 0
}